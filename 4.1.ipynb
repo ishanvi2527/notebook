{
    "cells": [
        {
            "metadata": {},
            "cell_type": "markdown",
            "source": "# Assignment 4\n## Understaning scaling of linear algebra operations on Apache Spark using Apache SystemML\n\nIn this assignment we want you to understand how to scale linear algebra operations from a single machine to multiple machines, memory and CPU cores using Apache SystemML. Therefore we want you to understand how to migrate from a numpy program to a SystemML DML program. Don't worry. We will give you a lot of hints. Finally, you won't need this knowledge anyways if you are sticking to Keras only, but once you go beyond that point you'll be happy to see what's going on behind the scenes.\n\nSo the first thing we need to ensure is that we are on the latest version of SystemML, which is 1.2.0:\n\nThe steps are:\n- pip install\n- start execution at the cell with the version - check"
        },
        {
            "metadata": {},
            "cell_type": "code",
            "source": "from IPython.display import Markdown, display\ndef printmd(string):\n    display(Markdown('# <span style=\"color:red\">'+string+'</span>'))\n\n\nif ('sc' in locals() or 'sc' in globals()):\n    printmd('<<<<<!!!!! It seems that you are running in a IBM Watson Studio Apache Spark Notebook. Please run it in an IBM Watson Studio Default Runtime (without Apache Spark) !!!!!>>>>>')\n    \n",
            "execution_count": 4,
            "outputs": []
        },
        {
            "metadata": {},
            "cell_type": "code",
            "source": "!pip install pyspark==3.2.1",
            "execution_count": 5,
            "outputs": [
                {
                    "output_type": "stream",
                    "text": "Collecting pyspark==3.2.1\n  Using cached pyspark-3.2.1-py2.py3-none-any.whl\nCollecting py4j==0.10.9.3\n  Using cached py4j-0.10.9.3-py2.py3-none-any.whl (198 kB)\nInstalling collected packages: py4j, pyspark\n  Attempting uninstall: py4j\n    Found existing installation: py4j 0.10.9.7\n    Uninstalling py4j-0.10.9.7:\n      Successfully uninstalled py4j-0.10.9.7\n  Attempting uninstall: pyspark\n    Found existing installation: pyspark 3.4.1\n    Uninstalling pyspark-3.4.1:\n      Successfully uninstalled pyspark-3.4.1\nSuccessfully installed py4j-0.10.9.3 pyspark-3.2.1\n",
                    "name": "stdout"
                }
            ]
        },
        {
            "metadata": {},
            "cell_type": "code",
            "source": "!pip install --upgrade pyspark",
            "execution_count": 6,
            "outputs": [
                {
                    "output_type": "stream",
                    "text": "Requirement already satisfied: pyspark in /opt/conda/envs/Python-3.10/lib/python3.10/site-packages (3.2.1)\nCollecting pyspark\n  Using cached pyspark-3.4.1-py2.py3-none-any.whl\nCollecting py4j==0.10.9.7\n  Using cached py4j-0.10.9.7-py2.py3-none-any.whl (200 kB)\nInstalling collected packages: py4j, pyspark\n  Attempting uninstall: py4j\n    Found existing installation: py4j 0.10.9.3\n    Uninstalling py4j-0.10.9.3:\n      Successfully uninstalled py4j-0.10.9.3\n  Attempting uninstall: pyspark\n    Found existing installation: pyspark 3.2.1\n    Uninstalling pyspark-3.2.1:\n      Successfully uninstalled pyspark-3.2.1\nSuccessfully installed py4j-0.10.9.7 pyspark-3.4.1\n",
                    "name": "stdout"
                }
            ]
        },
        {
            "metadata": {},
            "cell_type": "code",
            "source": "!pip install systemds==2.2.1",
            "execution_count": 1,
            "outputs": [
                {
                    "output_type": "stream",
                    "text": "Requirement already satisfied: systemds==2.2.1 in /opt/conda/envs/Python-3.10/lib/python3.10/site-packages (2.2.1)\nRequirement already satisfied: numpy>=1.8.2 in /opt/conda/envs/Python-3.10/lib/python3.10/site-packages (from systemds==2.2.1) (1.23.1)\nRequirement already satisfied: pandas>=1.2.2 in /opt/conda/envs/Python-3.10/lib/python3.10/site-packages (from systemds==2.2.1) (1.4.3)\nRequirement already satisfied: py4j>=0.10.9 in /opt/conda/envs/Python-3.10/lib/python3.10/site-packages (from systemds==2.2.1) (0.10.9.7)\nRequirement already satisfied: requests>=2.24.0 in /opt/conda/envs/Python-3.10/lib/python3.10/site-packages (from systemds==2.2.1) (2.29.0)\nRequirement already satisfied: python-dateutil>=2.8.1 in /opt/conda/envs/Python-3.10/lib/python3.10/site-packages (from pandas>=1.2.2->systemds==2.2.1) (2.8.2)\nRequirement already satisfied: pytz>=2020.1 in /opt/conda/envs/Python-3.10/lib/python3.10/site-packages (from pandas>=1.2.2->systemds==2.2.1) (2022.1)\nRequirement already satisfied: idna<4,>=2.5 in /opt/conda/envs/Python-3.10/lib/python3.10/site-packages (from requests>=2.24.0->systemds==2.2.1) (3.3)\nRequirement already satisfied: charset-normalizer<4,>=2 in /opt/conda/envs/Python-3.10/lib/python3.10/site-packages (from requests>=2.24.0->systemds==2.2.1) (2.0.4)\nRequirement already satisfied: urllib3<1.27,>=1.21.1 in /opt/conda/envs/Python-3.10/lib/python3.10/site-packages (from requests>=2.24.0->systemds==2.2.1) (1.26.11)\nRequirement already satisfied: certifi>=2017.4.17 in /opt/conda/envs/Python-3.10/lib/python3.10/site-packages (from requests>=2.24.0->systemds==2.2.1) (2023.5.7)\nRequirement already satisfied: six>=1.5 in /opt/conda/envs/Python-3.10/lib/python3.10/site-packages (from python-dateutil>=2.8.1->pandas>=1.2.2->systemds==2.2.1) (1.16.0)\n",
                    "name": "stdout"
                }
            ]
        },
        {
            "metadata": {},
            "cell_type": "code",
            "source": "from pyspark import SparkContext, SparkConf\nfrom pyspark.sql import SQLContext, SparkSession\nfrom pyspark.sql.types import StructType, StructField, DoubleType, IntegerType, StringType\nsc = SparkContext.getOrCreate(SparkConf().setMaster(\"local[*]\"))\nfrom pyspark.sql import SparkSession\nspark = SparkSession \\\n    .builder \\\n    .getOrCreate()",
            "execution_count": 2,
            "outputs": [
                {
                    "output_type": "stream",
                    "text": "Setting default log level to \"WARN\".\nTo adjust logging level use sc.setLogLevel(newLevel). For SparkR, use setLogLevel(newLevel).\n23/07/02 09:18:18 WARN NativeCodeLoader: Unable to load native-hadoop library for your platform... using builtin-java classes where applicable\n",
                    "name": "stderr"
                }
            ]
        },
        {
            "metadata": {},
            "cell_type": "code",
            "source": "import numpy as np\nu = np.random.rand(1000,10000)\ns = np.random.rand(10000,1000)\nw = np.random.rand(1000,1000)",
            "execution_count": 3,
            "outputs": []
        },
        {
            "metadata": {},
            "cell_type": "markdown",
            "source": "Now we implement a short one-liner to define a very simple linear algebra operation\n\nIn case you are unfamiliar with matrxi-matrix multiplication: https://en.wikipedia.org/wiki/Matrix_multiplication\n\nsum(U' * (W . (U * S)))\n\n\n| Legend        |            |   \n| ------------- |-------------| \n| '      | transpose of a matrix | \n| * | matrix-matrix multiplication      |  \n| . | scalar multiplication      |   \n\n"
        },
        {
            "metadata": {},
            "cell_type": "code",
            "source": "import time\nstart = time.time()\nres = np.sum(u.T.dot(w * u.dot(s)))\nprint (time.time()-start)",
            "execution_count": 4,
            "outputs": [
                {
                    "output_type": "stream",
                    "text": "0.6653733253479004\n",
                    "name": "stdout"
                }
            ]
        },
        {
            "metadata": {},
            "cell_type": "markdown",
            "source": "As you can see this executes perfectly fine. Note that this is even a very efficient execution because numpy uses a C/C++ backend which is known for it's performance. But what happens if U, S or W get such big that the available main memory cannot cope with it? Let's give it a try:"
        },
        {
            "metadata": {},
            "cell_type": "code",
            "source": "#u = np.random.rand(10000,100000)\n#s = np.random.rand(100000,10000)\n#w = np.random.rand(10000,10000)",
            "execution_count": 5,
            "outputs": []
        },
        {
            "metadata": {},
            "cell_type": "markdown",
            "source": "After a short while you should see a memory error. This is because the operating system process was not able to allocate enough memory for storing the numpy array on the heap. Now it's time to re-implement the very same operations in SystemDS, and this is your task. Just replace all ###your_code_goes_here sections with proper code, please consider the following table which contains all syntax you need:\n\n| Syntax        |            |   \n| ------------- |-------------| \n| M.t()      | transpose of a matrix, where M is the matrix | \n| `M.__matmul__(N)` | matrix-matrix multiplication between M and N      |  \n| M * N | scalar multiplication between matrix M and N     |   \n\n\n## Task"
        },
        {
            "metadata": {},
            "cell_type": "markdown",
            "source": "We use SystemDSContext to interface with Apache SystemDS (formerly SystemML). Note that we passed a SparkSession object as parameter to SystemDSContext so now it knows how how to talk to the Apache Spark cluster"
        },
        {
            "metadata": {},
            "cell_type": "code",
            "source": "from systemds.context import SystemDSContext\n\n\nwith SystemDSContext(spark) as sds:\n    # Now we create some large random matrices to have numpy and SystemDS crunch on it\n    U = sds.rand(rows=1000,cols=10000)\n    S = sds.rand(rows=10000,cols=1000)\n    W = sds.rand(rows=1000,cols=1000)\n    res = (U @ (S @ W @ U)).sum()\n    print(res.compute())\n",
            "execution_count": 9,
            "outputs": [
                {
                    "output_type": "stream",
                    "text": "6249811687645622.0\n",
                    "name": "stdout"
                }
            ]
        },
        {
            "metadata": {},
            "cell_type": "markdown",
            "source": "In order to show you the advantage of SystemML over numpy we've blown up the sizes of the matrices. Unfortunately, on a 1-2 worker Spark cluster it takes quite some time to complete. Therefore we've stripped down the example to smaller matrices below, but we've kept the code, just in case you are curious to check it out. But you might want to use some more workers which you easily can configure in the environment settings of the project within Watson Studio. Just be aware that you're currently limited to free 50 capacity unit hours per month wich are consumed by the additional workers."
        },
        {
            "metadata": {},
            "cell_type": "markdown",
            "source": "To get consistent results we switch from a random matrix initialization to something deterministic"
        },
        {
            "metadata": {},
            "cell_type": "markdown",
            "source": "If everything runs fine you should get *6252492444241.075* as result (or something in that bullpark). Feel free to submit your solutionto the grader now!\n\n### Submission"
        },
        {
            "metadata": {},
            "cell_type": "code",
            "source": "!rm -f rklib.py\n!wget https://raw.githubusercontent.com/romeokienzler/developerWorks/master/coursera/ai/rklib.py",
            "execution_count": 10,
            "outputs": [
                {
                    "output_type": "stream",
                    "text": "--2023-07-02 09:20:44--  https://raw.githubusercontent.com/romeokienzler/developerWorks/master/coursera/ai/rklib.py\nResolving raw.githubusercontent.com (raw.githubusercontent.com)... 185.199.110.133, 185.199.108.133, 185.199.109.133, ...\nConnecting to raw.githubusercontent.com (raw.githubusercontent.com)|185.199.110.133|:443... connected.\nHTTP request sent, awaiting response... 200 OK\nLength: 2289 (2.2K) [text/plain]\nSaving to: \u2018rklib.py\u2019\n\nrklib.py            100%[===================>]   2.24K  --.-KB/s    in 0s      \n\n2023-07-02 09:20:44 (7.50 MB/s) - \u2018rklib.py\u2019 saved [2289/2289]\n\n",
                    "name": "stdout"
                }
            ]
        },
        {
            "metadata": {},
            "cell_type": "code",
            "source": "from rklib import submit\nkey = \"esRk7vn-Eeej-BLTuYzd0g\"\n\n\nemail = \"ishanvi.64-cse-19@mietjammu.in\"###your_code_goes_here",
            "execution_count": 11,
            "outputs": []
        },
        {
            "metadata": {},
            "cell_type": "code",
            "source": "part = \"fUxc8\"\ntoken = \"iQEh9caEJcFCA35i\"###your_code_goes_here #you can obtain it from the grader page on Coursera (have a look here if you need more information on how to obtain the token https://youtu.be/GcDo0Rwe06U?t=276)\nsubmit(email, token, key, part, [part], res.script.dml_script.replace('\\n','x'))",
            "execution_count": 12,
            "outputs": [
                {
                    "output_type": "stream",
                    "text": "Submission successful, please check on the coursera grader page for the status\n-------------------------\n{\"elements\":[{\"itemId\":\"P1p3F\",\"id\":\"tE4j0qhMEeecqgpT6QjMdA~P1p3F~1IMSfBi5Ee6i5Q5zcyI2hQ\",\"courseId\":\"tE4j0qhMEeecqgpT6QjMdA\"}],\"paging\":{},\"linked\":{}}\n-------------------------\n",
                    "name": "stdout"
                }
            ]
        },
        {
            "metadata": {},
            "cell_type": "code",
            "source": "",
            "execution_count": null,
            "outputs": []
        }
    ],
    "metadata": {
        "kernelspec": {
            "name": "python3",
            "display_name": "Python 3.10",
            "language": "python"
        },
        "language_info": {
            "name": "python",
            "version": "3.10.9",
            "mimetype": "text/x-python",
            "codemirror_mode": {
                "name": "ipython",
                "version": 3
            },
            "pygments_lexer": "ipython3",
            "nbconvert_exporter": "python",
            "file_extension": ".py"
        }
    },
    "nbformat": 4,
    "nbformat_minor": 1
}